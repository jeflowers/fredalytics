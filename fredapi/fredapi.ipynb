{
 "cells": [
  {
   "metadata": {},
   "cell_type": "markdown",
   "source": [
    "Import tools to help communicate with Fred API\n",
    "Requests helps us send messages over the internet\n",
    "Optional lets us say that sometimes a piece of information might not be there."
   ],
   "id": "c6b2874f1eea528"
  },
  {
   "metadata": {
    "ExecuteTime": {
     "end_time": "2024-09-01T03:39:13.083123Z",
     "start_time": "2024-09-01T03:39:13.042164Z"
    }
   },
   "cell_type": "code",
   "source": [
    "import requests\n",
    "from typing import Optional"
   ],
   "id": "c4fdca94cac81c37",
   "outputs": [],
   "execution_count": 33
  },
  {
   "metadata": {},
   "cell_type": "markdown",
   "source": "#### Creates a blueprint for our FRED API tool.",
   "id": "3423dd00a83b8b94"
  },
  {
   "metadata": {
    "ExecuteTime": {
     "end_time": "2024-09-01T04:40:38.620765Z",
     "start_time": "2024-09-01T04:40:38.549994Z"
    }
   },
   "cell_type": "code",
   "source": [
    "class FredPyAPI:\n",
    "    # main web address our application will talk to\n",
    "    BASE_URL = \"https://api.stlouisfed.org/fred/\"\n",
    "    # This is how we create our robot (Initialize).  We can give it\n",
    "    # a token (a special password) right away, or we can add it later.\n",
    "    def __init__(self, token: Optional[str] = None):\n",
    "        self.token = token\n",
    "    \n",
    "    # This is a way to give our robot the special password after we've created it.\n",
    "    def set_token(self, token: str) -> None:\n",
    "        self.token = token\n",
    "    \n",
    "    # This is a private helper function (that's why it starts with\n",
    "    # _). It's like the robot's internal communication system.\n",
    "    def _make_request(self, endpoint: str, params: dict) -> dict:\n",
    "        # This checks if the robot has its password (api_key). If not, it stops and tells us to set the password.\n",
    "        if not self.token:\n",
    "           raise ValueError(\"API token is not set. Use set_token() method to set it.\")\n",
    "           \n",
    "        # These lines add the password and ask for the response in a specific format (JSON).\n",
    "        params['api_key'] = self.token\n",
    "        params['file_type'] = 'json'\n",
    "           \n",
    "        # This sends the request to FRED, checks for errors, and returns the data.\n",
    "        response = requests.get(f\"{self.BASE_URL}{endpoint}\", params=params)\n",
    "        response.raise_for_status()\n",
    "        \n",
    "        return response.json()\n",
    "    \n",
    "    # This function gets data about a specific economic series (like GDP).\n",
    "    def get_series_data(self, series_id: str) -> dict:\n",
    "        return self._make_request(\"series\", {\"series_id\": series_id})\n",
    "    \n",
    "    # This gets historical data for a series, with optional start and end dates.\n",
    "    def get_historical_data(self, series_id: str, observation_start: Optional[str] = None, observation_end: Optional[str] = None) -> dict:\n",
    "        params = {\"series_id\": series_id}\n",
    "        if observation_start:\n",
    "            params[\"observation_start\"] = observation_start\n",
    "        if observation_end:\n",
    "            params[\"observation_end\"] = observation_end\n",
    "            \n",
    "        return self._make_request(\"series/observations\", params)\n",
    "   \n",
    "    # This gets information about categories of economic data. \n",
    "    def get_categories(self, category_id: int = 0) -> dict:\n",
    "        return self._make_request(\"category\", {\"category_id\": category_id})\n",
    "   \n",
    "    # This gets information about when new economic data is released.\n",
    "    def get_releases(self, realtime_start: Optional[str] = None, realtime_end: Optional[str] = None) -> dict:\n",
    "        params = {}\n",
    "        if realtime_start:\n",
    "            params[\"realtime_start\"] = realtime_start\n",
    "            \n",
    "        if realtime_end:\n",
    "            params[\"realtime_end\"] = realtime_end\n",
    "            \n",
    "        return self._make_request(\"releases\", params)   "
   ],
   "id": "ed473059dedcdb72",
   "outputs": [],
   "execution_count": 36
  },
  {
   "metadata": {},
   "cell_type": "markdown",
   "source": "",
   "id": "a452326e7dd8d146"
  },
  {
   "metadata": {},
   "cell_type": "markdown",
   "source": "### Usage example of how to use this tool:",
   "id": "9d72a7ccf108dd31"
  },
  {
   "metadata": {},
   "cell_type": "code",
   "outputs": [],
   "execution_count": null,
   "source": [
    "# fred_api = FredPyAPI()\n",
    "# fred_api.set_token(\"your_api_key_here\")\n",
    "# series_data = fred_api.get_series_data(\"GDP\")\n",
    "# historical_data = fred_api.get_historical_data(\"GDP\", observation_start=\"2020-01-01\", observation_end=\"2023-12-31\")\n",
    "# categories = fred_api.get_categories()\n",
    "# releases = fred_api.get_releases(realtime_start=\"2023-01-01\")"
   ],
   "id": "ec078bcd2aeb6128"
  }
 ],
 "metadata": {
  "kernelspec": {
   "display_name": "Python 3",
   "language": "python",
   "name": "python3"
  },
  "language_info": {
   "codemirror_mode": {
    "name": "ipython",
    "version": 2
   },
   "file_extension": ".py",
   "mimetype": "text/x-python",
   "name": "python",
   "nbconvert_exporter": "python",
   "pygments_lexer": "ipython2",
   "version": "2.7.6"
  }
 },
 "nbformat": 4,
 "nbformat_minor": 5
}
